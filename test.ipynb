{
 "cells": [
  {
   "cell_type": "code",
   "execution_count": 5,
   "id": "f6f39839",
   "metadata": {},
   "outputs": [
    {
     "name": "stdout",
     "output_type": "stream",
     "text": [
      "[{'start_timestamp': 1.7, 'end_timestamp': 2.2, 'text': 'Hello!', 'speaker_label': 'Customer'}, {'start_timestamp': 2.7, 'end_timestamp': 3.5, 'text': 'Good evening, sir.', 'speaker_label': 'Agent'}, {'start_timestamp': 6.0, 'end_timestamp': 6.8, 'text': 'Good morning, Sara.', 'speaker_label': 'Customer'}, {'start_timestamp': 7.6, 'end_timestamp': 10.1, 'text': 'Amit Choy was talking about Broking in June.', 'speaker_label': 'Agent'}, {'start_timestamp': 11.6, 'end_timestamp': 12.3, 'text': 'Good morning.', 'speaker_label': 'Customer'}, {'start_timestamp': 13.4, 'end_timestamp': 15.8, 'text': 'I met George Brokaw in the morning.', 'speaker_label': 'Agent'}, {'start_timestamp': 13.6, 'end_timestamp': 14.3, 'text': 'Thank you very much.', 'speaker_label': 'Customer'}, {'start_timestamp': 16.9, 'end_timestamp': 18.1, 'text': 'Sameer, Sameer is not here.', 'speaker_label': 'Customer'}, {'start_timestamp': 18.7, 'end_timestamp': 20.6, 'text': 'English? Hindi?', 'speaker_label': 'Agent'}, {'start_timestamp': 20.6, 'end_timestamp': 23.0, 'text': 'No, no, no English.', 'speaker_label': 'Customer'}, {'start_timestamp': 24.4, 'end_timestamp': 25.3, 'text': 'Only the milk?', 'speaker_label': 'Agent'}, {'start_timestamp': 26.3, 'end_timestamp': 26.8, 'text': 'Yes.', 'speaker_label': 'Customer'}, {'start_timestamp': 27.4, 'end_timestamp': 27.8, 'text': 'English?', 'speaker_label': 'Agent'}, {'start_timestamp': 28.9, 'end_timestamp': 29.4, 'text': 'No, no.', 'speaker_label': 'Customer'}, {'start_timestamp': 30.5, 'end_timestamp': 32.4, 'text': 'Okay, Saraswati will call back here in just a minute.', 'speaker_label': 'Agent'}, {'start_timestamp': 36.0, 'end_timestamp': 37.7, 'text': 'The language...', 'speaker_label': 'Customer'}, {'start_timestamp': 38.7, 'end_timestamp': 39.2, 'text': 'The book is open.', 'speaker_label': 'Agent'}]\n"
     ]
    }
   ],
   "source": [
    "import httpx\n",
    "import nest_asyncio\n",
    "import asyncio\n",
    "\n",
    "# Allow nested event loops in Jupyter\n",
    "nest_asyncio.apply()\n",
    "\n",
    "BASE_URL = \"http://127.0.0.1:8000\"  # Change to your API host\n",
    "\n",
    "async def fetch_transcript(audio_url: str):\n",
    "    timeout = httpx.Timeout(60.0)  # wait up to 60 seconds\n",
    "    async with httpx.AsyncClient(timeout=timeout) as client:\n",
    "        response = await client.get(f\"{BASE_URL}/transcribe\", params={\"url\": audio_url})\n",
    "        response.raise_for_status()\n",
    "        return response.json()\n",
    "\n",
    "# Example usage in Jupyter\n",
    "audio_url = \"https://openapi.airtel.in/gateway/airtel-xchange/call/recording?token=vtGUyg9pf/5/YdWRKa+xA7Ir4teoVnTDHM8Q8hnwDMP7gM8d9SFlG4/rxhuP+R0rhcUoImSkYbRVFx7lFxxiVBt6uLR38dQhQZtpZ2Af7v5aPYqYNPsYwlZg6VMi8pgH1E6LzVqWrWPr+kSqbgo+1GPVJjtZpFZ+jSr1rJ6RE+Y=\"\n",
    "\n",
    "# Run async function in Jupyter\n",
    "transcript_data = await fetch_transcript(audio_url)\n",
    "print(transcript_data[\"transcript\"])\n"
   ]
  },
  {
   "cell_type": "code",
   "execution_count": 6,
   "id": "044a1766",
   "metadata": {},
   "outputs": [
    {
     "data": {
      "text/plain": [
       "{'transcript': [{'start_timestamp': 1.7,\n",
       "   'end_timestamp': 2.2,\n",
       "   'text': 'Hello!',\n",
       "   'speaker_label': 'Customer'},\n",
       "  {'start_timestamp': 2.7,\n",
       "   'end_timestamp': 3.5,\n",
       "   'text': 'Good evening, sir.',\n",
       "   'speaker_label': 'Agent'},\n",
       "  {'start_timestamp': 6.0,\n",
       "   'end_timestamp': 6.8,\n",
       "   'text': 'Good morning, Sara.',\n",
       "   'speaker_label': 'Customer'},\n",
       "  {'start_timestamp': 7.6,\n",
       "   'end_timestamp': 10.1,\n",
       "   'text': 'Amit Choy was talking about Broking in June.',\n",
       "   'speaker_label': 'Agent'},\n",
       "  {'start_timestamp': 11.6,\n",
       "   'end_timestamp': 12.3,\n",
       "   'text': 'Good morning.',\n",
       "   'speaker_label': 'Customer'},\n",
       "  {'start_timestamp': 13.4,\n",
       "   'end_timestamp': 15.8,\n",
       "   'text': 'I met George Brokaw in the morning.',\n",
       "   'speaker_label': 'Agent'},\n",
       "  {'start_timestamp': 13.6,\n",
       "   'end_timestamp': 14.3,\n",
       "   'text': 'Thank you very much.',\n",
       "   'speaker_label': 'Customer'},\n",
       "  {'start_timestamp': 16.9,\n",
       "   'end_timestamp': 18.1,\n",
       "   'text': 'Sameer, Sameer is not here.',\n",
       "   'speaker_label': 'Customer'},\n",
       "  {'start_timestamp': 18.7,\n",
       "   'end_timestamp': 20.6,\n",
       "   'text': 'English? Hindi?',\n",
       "   'speaker_label': 'Agent'},\n",
       "  {'start_timestamp': 20.6,\n",
       "   'end_timestamp': 23.0,\n",
       "   'text': 'No, no, no English.',\n",
       "   'speaker_label': 'Customer'},\n",
       "  {'start_timestamp': 24.4,\n",
       "   'end_timestamp': 25.3,\n",
       "   'text': 'Only the milk?',\n",
       "   'speaker_label': 'Agent'},\n",
       "  {'start_timestamp': 26.3,\n",
       "   'end_timestamp': 26.8,\n",
       "   'text': 'Yes.',\n",
       "   'speaker_label': 'Customer'},\n",
       "  {'start_timestamp': 27.4,\n",
       "   'end_timestamp': 27.8,\n",
       "   'text': 'English?',\n",
       "   'speaker_label': 'Agent'},\n",
       "  {'start_timestamp': 28.9,\n",
       "   'end_timestamp': 29.4,\n",
       "   'text': 'No, no.',\n",
       "   'speaker_label': 'Customer'},\n",
       "  {'start_timestamp': 30.5,\n",
       "   'end_timestamp': 32.4,\n",
       "   'text': 'Okay, Saraswati will call back here in just a minute.',\n",
       "   'speaker_label': 'Agent'},\n",
       "  {'start_timestamp': 36.0,\n",
       "   'end_timestamp': 37.7,\n",
       "   'text': 'The language...',\n",
       "   'speaker_label': 'Customer'},\n",
       "  {'start_timestamp': 38.7,\n",
       "   'end_timestamp': 39.2,\n",
       "   'text': 'The book is open.',\n",
       "   'speaker_label': 'Agent'}],\n",
       " 'status': 'success',\n",
       " 'channels': 2,\n",
       " 'sampling_rate': 16000,\n",
       " 'success': True}"
      ]
     },
     "execution_count": 6,
     "metadata": {},
     "output_type": "execute_result"
    }
   ],
   "source": [
    "transcript_data"
   ]
  }
 ],
 "metadata": {
  "kernelspec": {
   "display_name": "telelyzer-transcription-service-venv",
   "language": "python",
   "name": "python3"
  },
  "language_info": {
   "codemirror_mode": {
    "name": "ipython",
    "version": 3
   },
   "file_extension": ".py",
   "mimetype": "text/x-python",
   "name": "python",
   "nbconvert_exporter": "python",
   "pygments_lexer": "ipython3",
   "version": "3.11.11"
  }
 },
 "nbformat": 4,
 "nbformat_minor": 5
}
