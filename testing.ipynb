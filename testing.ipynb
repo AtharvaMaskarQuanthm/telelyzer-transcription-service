{
 "cells": [
  {
   "cell_type": "code",
   "execution_count": 1,
   "id": "41a5304c",
   "metadata": {},
   "outputs": [
    {
     "name": "stdout",
     "output_type": "stream",
     "text": [
      "Requirement already satisfied: librosa in /workspace/.venv/lib/python3.13/site-packages (0.11.0)\n",
      "Requirement already satisfied: requests in /workspace/.venv/lib/python3.13/site-packages (2.32.3)\n",
      "Requirement already satisfied: audioread>=2.1.9 in /workspace/.venv/lib/python3.13/site-packages (from librosa) (3.0.1)\n",
      "Requirement already satisfied: numba>=0.51.0 in /workspace/.venv/lib/python3.13/site-packages (from librosa) (0.62.1)\n",
      "Requirement already satisfied: numpy>=1.22.3 in /workspace/.venv/lib/python3.13/site-packages (from librosa) (2.1.2)\n",
      "Requirement already satisfied: scipy>=1.6.0 in /workspace/.venv/lib/python3.13/site-packages (from librosa) (1.16.2)\n",
      "Requirement already satisfied: scikit-learn>=1.1.0 in /workspace/.venv/lib/python3.13/site-packages (from librosa) (1.7.2)\n",
      "Requirement already satisfied: joblib>=1.0 in /workspace/.venv/lib/python3.13/site-packages (from librosa) (1.5.2)\n",
      "Requirement already satisfied: decorator>=4.3.0 in /workspace/.venv/lib/python3.13/site-packages (from librosa) (5.2.1)\n",
      "Requirement already satisfied: soundfile>=0.12.1 in /workspace/.venv/lib/python3.13/site-packages (from librosa) (0.13.1)\n",
      "Requirement already satisfied: pooch>=1.1 in /workspace/.venv/lib/python3.13/site-packages (from librosa) (1.8.2)\n",
      "Requirement already satisfied: soxr>=0.3.2 in /workspace/.venv/lib/python3.13/site-packages (from librosa) (1.0.0)\n",
      "Requirement already satisfied: typing_extensions>=4.1.1 in /workspace/.venv/lib/python3.13/site-packages (from librosa) (4.15.0)\n",
      "Requirement already satisfied: lazy_loader>=0.1 in /workspace/.venv/lib/python3.13/site-packages (from librosa) (0.4)\n",
      "Requirement already satisfied: msgpack>=1.0 in /workspace/.venv/lib/python3.13/site-packages (from librosa) (1.1.2)\n",
      "Requirement already satisfied: standard-aifc in /workspace/.venv/lib/python3.13/site-packages (from librosa) (3.13.0)\n",
      "Requirement already satisfied: standard-sunau in /workspace/.venv/lib/python3.13/site-packages (from librosa) (3.13.0)\n",
      "Requirement already satisfied: charset-normalizer<4,>=2 in /workspace/.venv/lib/python3.13/site-packages (from requests) (3.4.4)\n",
      "Requirement already satisfied: idna<4,>=2.5 in /workspace/.venv/lib/python3.13/site-packages (from requests) (3.11)\n",
      "Requirement already satisfied: urllib3<3,>=1.21.1 in /workspace/.venv/lib/python3.13/site-packages (from requests) (2.5.0)\n",
      "Requirement already satisfied: certifi>=2017.4.17 in /workspace/.venv/lib/python3.13/site-packages (from requests) (2025.10.5)\n",
      "Requirement already satisfied: packaging in /workspace/.venv/lib/python3.13/site-packages (from lazy_loader>=0.1->librosa) (25.0)\n",
      "Requirement already satisfied: llvmlite<0.46,>=0.45.0dev0 in /workspace/.venv/lib/python3.13/site-packages (from numba>=0.51.0->librosa) (0.45.1)\n",
      "Requirement already satisfied: platformdirs>=2.5.0 in /workspace/.venv/lib/python3.13/site-packages (from pooch>=1.1->librosa) (4.5.0)\n"
     ]
    },
    {
     "name": "stdout",
     "output_type": "stream",
     "text": [
      "Requirement already satisfied: threadpoolctl>=3.1.0 in /workspace/.venv/lib/python3.13/site-packages (from scikit-learn>=1.1.0->librosa) (3.6.0)\n",
      "Requirement already satisfied: cffi>=1.0 in /workspace/.venv/lib/python3.13/site-packages (from soundfile>=0.12.1->librosa) (2.0.0)\n",
      "Requirement already satisfied: pycparser in /workspace/.venv/lib/python3.13/site-packages (from cffi>=1.0->soundfile>=0.12.1->librosa) (2.23)\n",
      "Requirement already satisfied: standard-chunk in /workspace/.venv/lib/python3.13/site-packages (from standard-aifc->librosa) (3.13.0)\n",
      "Requirement already satisfied: audioop-lts in /workspace/.venv/lib/python3.13/site-packages (from standard-aifc->librosa) (0.2.2)\n"
     ]
    }
   ],
   "source": [
    "!pip install librosa requests"
   ]
  },
  {
   "cell_type": "code",
   "execution_count": 17,
   "id": "0ea59691",
   "metadata": {},
   "outputs": [
    {
     "name": "stdout",
     "output_type": "stream",
     "text": [
      "Status: 500\n",
      "Response: {'detail': \"'TranscriptionService' object has no attribute 'audio'\"}\n"
     ]
    }
   ],
   "source": [
    "import librosa\n",
    "import requests\n",
    "\n",
    "audio_data, sample_rate = librosa.load(\"./ad6052b8-cf69-4927-b820-f5d2e871b78a_0_1_r.mp3\", sr=None)\n",
    "\n",
    "payload = {\n",
    "    \"audio_waveform\": audio_data.tolist(),\n",
    "    \"sampling_rate\": int(sample_rate)\n",
    "}\n",
    "\n",
    "response = requests.post(\"http://localhost:8000/transcribe-waveform\", json=payload)\n",
    "print(f\"Status: {response.status_code}\")\n",
    "print(f\"Response: {response.json()}\")"
   ]
  },
  {
   "cell_type": "code",
   "execution_count": null,
   "id": "ae3abb8d",
   "metadata": {},
   "outputs": [],
   "source": []
  }
 ],
 "metadata": {
  "kernelspec": {
   "display_name": ".venv",
   "language": "python",
   "name": "python3"
  },
  "language_info": {
   "codemirror_mode": {
    "name": "ipython",
    "version": 3
   },
   "file_extension": ".py",
   "mimetype": "text/x-python",
   "name": "python",
   "nbconvert_exporter": "python",
   "pygments_lexer": "ipython3",
   "version": "3.13.8"
  }
 },
 "nbformat": 4,
 "nbformat_minor": 5
}
